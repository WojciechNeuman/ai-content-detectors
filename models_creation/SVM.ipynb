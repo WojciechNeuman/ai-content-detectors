{
 "cells": [
  {
   "cell_type": "code",
   "execution_count": 1,
   "metadata": {},
   "outputs": [],
   "source": [
    "# Standard libraries\n",
    "import re\n",
    "import sys\n",
    "import warnings\n",
    "import pickle\n",
    "\n",
    "# Data manipulation and visualization\n",
    "import pandas as pd\n",
    "import numpy as np\n",
    "\n",
    "# Text processing\n",
    "from sklearn.feature_extraction.text import TfidfVectorizer\n",
    "\n",
    "# Machine learning models and metrics\n",
    "from sklearn.pipeline import Pipeline\n",
    "from sklearn.preprocessing import StandardScaler\n",
    "from sklearn import svm\n",
    "from sklearn.svm import LinearSVC\n",
    "from sklearn.model_selection import cross_val_score\n",
    "from sklearn.metrics import (\n",
    "    accuracy_score,\n",
    "    f1_score,\n",
    "    precision_score,\n",
    "    recall_score,\n",
    ")\n",
    "\n",
    "# Hyperparameter tuning\n",
    "import optuna\n",
    "\n",
    "warnings.filterwarnings(\"ignore\", category=FutureWarning)\n",
    "warnings.filterwarnings(\"ignore\", category=UserWarning)\n",
    "sys.path.append(\"..\")\n",
    "\n",
    "# Local modules\n",
    "from utilities.download_dataset import download_dataset\n",
    "from utilities.update_model_metrics import update_model_metrics \n",
    "from utilities.test_process import text_process\n"
   ]
  },
  {
   "cell_type": "code",
   "execution_count": 2,
   "metadata": {},
   "outputs": [],
   "source": [
    "BAYESIAN_OPTIMIZATION = False"
   ]
  },
  {
   "cell_type": "code",
   "execution_count": 3,
   "metadata": {},
   "outputs": [
    {
     "name": "stdout",
     "output_type": "stream",
     "text": [
      "Downloading ../dataset/train.jsonl...\n"
     ]
    },
    {
     "name": "stderr",
     "output_type": "stream",
     "text": [
      "Downloading...\n",
      "From (original): https://drive.google.com/uc?id=1atKYBZ9Pq3-zT0_BC_nZqMx0W-wjEW01\n",
      "From (redirected): https://drive.google.com/uc?id=1atKYBZ9Pq3-zT0_BC_nZqMx0W-wjEW01&confirm=t&uuid=f4ceac3f-70ac-4a5b-80e2-94c81448180f\n",
      "To: /Users/wojciech.neuman/Documents/ai-content-detectors/dataset/train.jsonl\n",
      "100%|██████████| 292M/292M [00:03<00:00, 81.9MB/s] \n"
     ]
    },
    {
     "name": "stdout",
     "output_type": "stream",
     "text": [
      "Downloading ../dataset/valid.jsonl...\n"
     ]
    },
    {
     "name": "stderr",
     "output_type": "stream",
     "text": [
      "Downloading...\n",
      "From: https://drive.google.com/uc?id=1FhT3m_ApKzX615JzshB5-d-j6S91-6oz\n",
      "To: /Users/wojciech.neuman/Documents/ai-content-detectors/dataset/valid.jsonl\n",
      "100%|██████████| 55.1M/55.1M [00:02<00:00, 27.0MB/s]\n"
     ]
    },
    {
     "name": "stdout",
     "output_type": "stream",
     "text": [
      "Downloading ../dataset/test.jsonl...\n"
     ]
    },
    {
     "name": "stderr",
     "output_type": "stream",
     "text": [
      "Downloading...\n",
      "From: https://drive.google.com/uc?id=16p0td9GgJRb9AP8i4HlX-xZGI2u849uA\n",
      "To: /Users/wojciech.neuman/Documents/ai-content-detectors/dataset/test.jsonl\n",
      "100%|██████████| 39.1M/39.1M [00:02<00:00, 17.9MB/s]"
     ]
    },
    {
     "name": "stdout",
     "output_type": "stream",
     "text": [
      "All files have been downloaded and saved in the '../dataset' folder.\n"
     ]
    },
    {
     "name": "stderr",
     "output_type": "stream",
     "text": [
      "\n"
     ]
    }
   ],
   "source": [
    "download_dataset()"
   ]
  },
  {
   "cell_type": "code",
   "execution_count": 4,
   "metadata": {},
   "outputs": [],
   "source": [
    "train_file_path = '../dataset/train.jsonl'\n",
    "test_file_path = '../dataset/test.jsonl'"
   ]
  },
  {
   "cell_type": "code",
   "execution_count": 5,
   "metadata": {},
   "outputs": [],
   "source": [
    "train_df = pd.read_json(train_file_path, lines=True)\n",
    "test_df = pd.read_json(test_file_path, lines=True)"
   ]
  },
  {
   "cell_type": "code",
   "execution_count": 6,
   "metadata": {},
   "outputs": [
    {
     "name": "stdout",
     "output_type": "stream",
     "text": [
      "<class 'pandas.core.frame.DataFrame'>\n",
      "RangeIndex: 101284 entries, 0 to 101283\n",
      "Data columns (total 5 columns):\n",
      " #   Column  Non-Null Count   Dtype \n",
      "---  ------  --------------   ----- \n",
      " 0   uid     101284 non-null  object\n",
      " 1   text    101284 non-null  object\n",
      " 2   extra   101284 non-null  object\n",
      " 3   source  101284 non-null  object\n",
      " 4   label   101284 non-null  int64 \n",
      "dtypes: int64(1), object(4)\n",
      "memory usage: 3.9+ MB\n"
     ]
    }
   ],
   "source": [
    "train_df.info()"
   ]
  },
  {
   "cell_type": "code",
   "execution_count": 7,
   "metadata": {},
   "outputs": [
    {
     "data": {
      "text/html": [
       "<div>\n",
       "<style scoped>\n",
       "    .dataframe tbody tr th:only-of-type {\n",
       "        vertical-align: middle;\n",
       "    }\n",
       "\n",
       "    .dataframe tbody tr th {\n",
       "        vertical-align: top;\n",
       "    }\n",
       "\n",
       "    .dataframe thead th {\n",
       "        text-align: right;\n",
       "    }\n",
       "</style>\n",
       "<table border=\"1\" class=\"dataframe\">\n",
       "  <thead>\n",
       "    <tr style=\"text-align: right;\">\n",
       "      <th></th>\n",
       "      <th>uid</th>\n",
       "      <th>text</th>\n",
       "      <th>extra</th>\n",
       "      <th>source</th>\n",
       "      <th>label</th>\n",
       "    </tr>\n",
       "  </thead>\n",
       "  <tbody>\n",
       "    <tr>\n",
       "      <th>0</th>\n",
       "      <td>[urlsf_subset00]-[15]</td>\n",
       "      <td>The dangers of Illinois as a ‘right to work’ s...</td>\n",
       "      <td>{'source': 'openweb', 'variant': 'original'}</td>\n",
       "      <td>openweb</td>\n",
       "      <td>0</td>\n",
       "    </tr>\n",
       "    <tr>\n",
       "      <th>1</th>\n",
       "      <td>[urlsf_subset00]-[15]</td>\n",
       "      <td>The governor of Illinois, Gov. Rauner, has req...</td>\n",
       "      <td>{'source': 'chatgpt', 'variant': 'original'}</td>\n",
       "      <td>chatgpt</td>\n",
       "      <td>1</td>\n",
       "    </tr>\n",
       "    <tr>\n",
       "      <th>2</th>\n",
       "      <td>[urlsf_subset00]-[83]</td>\n",
       "      <td>Check current weather conditions\\n\\nIt’s going...</td>\n",
       "      <td>{'source': 'openweb', 'variant': 'original'}</td>\n",
       "      <td>openweb</td>\n",
       "      <td>0</td>\n",
       "    </tr>\n",
       "    <tr>\n",
       "      <th>3</th>\n",
       "      <td>[urlsf_subset00]-[83]</td>\n",
       "      <td>Check current weather conditions It’s going to...</td>\n",
       "      <td>{'variant': 'original', 'source': 'llama'}</td>\n",
       "      <td>llama</td>\n",
       "      <td>1</td>\n",
       "    </tr>\n",
       "    <tr>\n",
       "      <th>4</th>\n",
       "      <td>[urlsf_subset00]-[89]</td>\n",
       "      <td>On Thursday, the president of the United State...</td>\n",
       "      <td>{'source': 'openweb', 'variant': 'original'}</td>\n",
       "      <td>openweb</td>\n",
       "      <td>0</td>\n",
       "    </tr>\n",
       "  </tbody>\n",
       "</table>\n",
       "</div>"
      ],
      "text/plain": [
       "                     uid                                               text  \\\n",
       "0  [urlsf_subset00]-[15]  The dangers of Illinois as a ‘right to work’ s...   \n",
       "1  [urlsf_subset00]-[15]  The governor of Illinois, Gov. Rauner, has req...   \n",
       "2  [urlsf_subset00]-[83]  Check current weather conditions\\n\\nIt’s going...   \n",
       "3  [urlsf_subset00]-[83]  Check current weather conditions It’s going to...   \n",
       "4  [urlsf_subset00]-[89]  On Thursday, the president of the United State...   \n",
       "\n",
       "                                          extra   source  label  \n",
       "0  {'source': 'openweb', 'variant': 'original'}  openweb      0  \n",
       "1  {'source': 'chatgpt', 'variant': 'original'}  chatgpt      1  \n",
       "2  {'source': 'openweb', 'variant': 'original'}  openweb      0  \n",
       "3    {'variant': 'original', 'source': 'llama'}    llama      1  \n",
       "4  {'source': 'openweb', 'variant': 'original'}  openweb      0  "
      ]
     },
     "execution_count": 7,
     "metadata": {},
     "output_type": "execute_result"
    }
   ],
   "source": [
    "train_df.head()"
   ]
  },
  {
   "cell_type": "code",
   "execution_count": 8,
   "metadata": {},
   "outputs": [],
   "source": [
    "train_df['text'] = train_df['text'].apply(text_process)\n",
    "test_df['text'] = test_df['text'].apply(text_process)"
   ]
  },
  {
   "cell_type": "code",
   "execution_count": 9,
   "metadata": {},
   "outputs": [],
   "source": [
    "X_train = train_df['text']\n",
    "y_train = train_df['label']\n",
    "\n",
    "X_test = test_df['text']\n",
    "y_test = test_df['label']"
   ]
  },
  {
   "cell_type": "code",
   "execution_count": 10,
   "metadata": {},
   "outputs": [],
   "source": [
    "# instantiate the TF-IDF vectorizer\n",
    "vect = TfidfVectorizer()\n",
    "\n",
    "# fit and transform X_train to create the document-term matrix\n",
    "X_train_dtm = vect.fit_transform(X_train)"
   ]
  },
  {
   "cell_type": "code",
   "execution_count": 11,
   "metadata": {},
   "outputs": [
    {
     "name": "stdout",
     "output_type": "stream",
     "text": [
      "<class 'scipy.sparse._csr.csr_matrix'> (101284, 547607)\n"
     ]
    }
   ],
   "source": [
    "print(type(X_train_dtm), X_train_dtm.shape)"
   ]
  },
  {
   "cell_type": "markdown",
   "metadata": {},
   "source": [
    "## Train model"
   ]
  },
  {
   "cell_type": "markdown",
   "metadata": {},
   "source": [
    "#### Hyperparameter Optimization with Optuna"
   ]
  },
  {
   "cell_type": "code",
   "execution_count": 12,
   "metadata": {},
   "outputs": [],
   "source": [
    "# Create sample dataset for hyperparameter tuning\n",
    "X_train_sample = X_train_dtm[:5000]\n",
    "y_train_sample = y_train[:5000]"
   ]
  },
  {
   "cell_type": "code",
   "execution_count": 13,
   "metadata": {},
   "outputs": [
    {
     "name": "stderr",
     "output_type": "stream",
     "text": [
      "[I 2025-01-23 12:36:49,527] A new study created in memory with name: SVM-Linear-Bayesian-Optimization\n"
     ]
    }
   ],
   "source": [
    "def objective(trial):\n",
    "    # Hyperparameter search space\n",
    "    C = trial.suggest_float('C', 1e-1, 100, log=True)\n",
    "    tol = trial.suggest_float('tol', 1e-5, 1e-1, log=True)\n",
    "    max_iter = trial.suggest_int('max_iter', 100, 10000, step=100)\n",
    "    shrinking = trial.suggest_categorical('shrinking', [True, False])\n",
    "\n",
    "    # Define pipeline with fixed StandardScaler configuration\n",
    "    pipeline = Pipeline([\n",
    "        ('scaler', StandardScaler(with_mean=False)),\n",
    "        ('svm', svm.SVC(C=C, kernel='linear', tol=tol, max_iter=max_iter, shrinking=shrinking, random_state=42))\n",
    "    ])\n",
    "\n",
    "    # Cross-validation to evaluate performance\n",
    "    scores = cross_val_score(pipeline, X_train_sample, y_train_sample, cv=5, scoring='f1')\n",
    "    \n",
    "    return scores.mean()\n",
    "\n",
    "sampler = optuna.samplers.TPESampler(seed=42)\n",
    "study = optuna.create_study(study_name='SVM-Linear-Bayesian-Optimization', direction='maximize', sampler=sampler)"
   ]
  },
  {
   "cell_type": "code",
   "execution_count": 14,
   "metadata": {},
   "outputs": [
    {
     "name": "stdout",
     "output_type": "stream",
     "text": [
      "Best parameters: {'C': 0.433, 'tol': 1.736e-05, 'max_iter': 6000, 'shrinking': True}\n"
     ]
    }
   ],
   "source": [
    "best_params = {}\n",
    "\n",
    "if BAYESIAN_OPTIMIZATION:\n",
    "    # Run Bayesian optimization\n",
    "    study.optimize(objective, n_trials=50)\n",
    "\n",
    "    best_params = study.best_params\n",
    "else:\n",
    "    # The best parameters found in the Bayesian optimization\n",
    "    best_params = {\n",
    "        'C': 0.433,\n",
    "        'tol': 1.736 * 10**-5,\n",
    "        'max_iter': 6000,\n",
    "        'shrinking': True\n",
    "    }\n",
    "\n",
    "print(\"Best parameters:\", best_params)"
   ]
  },
  {
   "cell_type": "code",
   "execution_count": 15,
   "metadata": {},
   "outputs": [
    {
     "name": "stdout",
     "output_type": "stream",
     "text": [
      "CPU times: user 1.33 s, sys: 71.1 ms, total: 1.4 s\n",
      "Wall time: 1.48 s\n"
     ]
    },
    {
     "data": {
      "text/html": [
       "<style>#sk-container-id-1 {color: black;}#sk-container-id-1 pre{padding: 0;}#sk-container-id-1 div.sk-toggleable {background-color: white;}#sk-container-id-1 label.sk-toggleable__label {cursor: pointer;display: block;width: 100%;margin-bottom: 0;padding: 0.3em;box-sizing: border-box;text-align: center;}#sk-container-id-1 label.sk-toggleable__label-arrow:before {content: \"▸\";float: left;margin-right: 0.25em;color: #696969;}#sk-container-id-1 label.sk-toggleable__label-arrow:hover:before {color: black;}#sk-container-id-1 div.sk-estimator:hover label.sk-toggleable__label-arrow:before {color: black;}#sk-container-id-1 div.sk-toggleable__content {max-height: 0;max-width: 0;overflow: hidden;text-align: left;background-color: #f0f8ff;}#sk-container-id-1 div.sk-toggleable__content pre {margin: 0.2em;color: black;border-radius: 0.25em;background-color: #f0f8ff;}#sk-container-id-1 input.sk-toggleable__control:checked~div.sk-toggleable__content {max-height: 200px;max-width: 100%;overflow: auto;}#sk-container-id-1 input.sk-toggleable__control:checked~label.sk-toggleable__label-arrow:before {content: \"▾\";}#sk-container-id-1 div.sk-estimator input.sk-toggleable__control:checked~label.sk-toggleable__label {background-color: #d4ebff;}#sk-container-id-1 div.sk-label input.sk-toggleable__control:checked~label.sk-toggleable__label {background-color: #d4ebff;}#sk-container-id-1 input.sk-hidden--visually {border: 0;clip: rect(1px 1px 1px 1px);clip: rect(1px, 1px, 1px, 1px);height: 1px;margin: -1px;overflow: hidden;padding: 0;position: absolute;width: 1px;}#sk-container-id-1 div.sk-estimator {font-family: monospace;background-color: #f0f8ff;border: 1px dotted black;border-radius: 0.25em;box-sizing: border-box;margin-bottom: 0.5em;}#sk-container-id-1 div.sk-estimator:hover {background-color: #d4ebff;}#sk-container-id-1 div.sk-parallel-item::after {content: \"\";width: 100%;border-bottom: 1px solid gray;flex-grow: 1;}#sk-container-id-1 div.sk-label:hover label.sk-toggleable__label {background-color: #d4ebff;}#sk-container-id-1 div.sk-serial::before {content: \"\";position: absolute;border-left: 1px solid gray;box-sizing: border-box;top: 0;bottom: 0;left: 50%;z-index: 0;}#sk-container-id-1 div.sk-serial {display: flex;flex-direction: column;align-items: center;background-color: white;padding-right: 0.2em;padding-left: 0.2em;position: relative;}#sk-container-id-1 div.sk-item {position: relative;z-index: 1;}#sk-container-id-1 div.sk-parallel {display: flex;align-items: stretch;justify-content: center;background-color: white;position: relative;}#sk-container-id-1 div.sk-item::before, #sk-container-id-1 div.sk-parallel-item::before {content: \"\";position: absolute;border-left: 1px solid gray;box-sizing: border-box;top: 0;bottom: 0;left: 50%;z-index: -1;}#sk-container-id-1 div.sk-parallel-item {display: flex;flex-direction: column;z-index: 1;position: relative;background-color: white;}#sk-container-id-1 div.sk-parallel-item:first-child::after {align-self: flex-end;width: 50%;}#sk-container-id-1 div.sk-parallel-item:last-child::after {align-self: flex-start;width: 50%;}#sk-container-id-1 div.sk-parallel-item:only-child::after {width: 0;}#sk-container-id-1 div.sk-dashed-wrapped {border: 1px dashed gray;margin: 0 0.4em 0.5em 0.4em;box-sizing: border-box;padding-bottom: 0.4em;background-color: white;}#sk-container-id-1 div.sk-label label {font-family: monospace;font-weight: bold;display: inline-block;line-height: 1.2em;}#sk-container-id-1 div.sk-label-container {text-align: center;}#sk-container-id-1 div.sk-container {/* jupyter's `normalize.less` sets `[hidden] { display: none; }` but bootstrap.min.css set `[hidden] { display: none !important; }` so we also need the `!important` here to be able to override the default hidden behavior on the sphinx rendered scikit-learn.org. See: https://github.com/scikit-learn/scikit-learn/issues/21755 */display: inline-block !important;position: relative;}#sk-container-id-1 div.sk-text-repr-fallback {display: none;}</style><div id=\"sk-container-id-1\" class=\"sk-top-container\"><div class=\"sk-text-repr-fallback\"><pre>LinearSVC(C=0.433, max_iter=6000, random_state=42, tol=1.736e-05)</pre><b>In a Jupyter environment, please rerun this cell to show the HTML representation or trust the notebook. <br />On GitHub, the HTML representation is unable to render, please try loading this page with nbviewer.org.</b></div><div class=\"sk-container\" hidden><div class=\"sk-item\"><div class=\"sk-estimator sk-toggleable\"><input class=\"sk-toggleable__control sk-hidden--visually\" id=\"sk-estimator-id-1\" type=\"checkbox\" checked><label for=\"sk-estimator-id-1\" class=\"sk-toggleable__label sk-toggleable__label-arrow\">LinearSVC</label><div class=\"sk-toggleable__content\"><pre>LinearSVC(C=0.433, max_iter=6000, random_state=42, tol=1.736e-05)</pre></div></div></div></div></div>"
      ],
      "text/plain": [
       "LinearSVC(C=0.433, max_iter=6000, random_state=42, tol=1.736e-05)"
      ]
     },
     "execution_count": 15,
     "metadata": {},
     "output_type": "execute_result"
    }
   ],
   "source": [
    "svm_linear = LinearSVC(C=best_params['C'], tol=best_params['tol'], max_iter=best_params['max_iter'], random_state=42)\n",
    "\n",
    "%time svm_linear.fit(X_train_dtm, y_train)"
   ]
  },
  {
   "cell_type": "markdown",
   "metadata": {},
   "source": [
    "## Test model"
   ]
  },
  {
   "cell_type": "code",
   "execution_count": 16,
   "metadata": {},
   "outputs": [
    {
     "name": "stdout",
     "output_type": "stream",
     "text": [
      "<class 'scipy.sparse._csr.csr_matrix'> (13952, 547607)\n"
     ]
    }
   ],
   "source": [
    "# transform X_test into a document-term matrix\n",
    "X_test_dtm = vect.transform(X_test)\n",
    "\n",
    "print(type(X_test_dtm), X_test_dtm.shape)\n",
    "\n",
    "# make class predictions for X_test_dtm\n",
    "y_pred = svm_linear.predict(X_test_dtm)"
   ]
  },
  {
   "cell_type": "markdown",
   "metadata": {},
   "source": [
    "## Calculate metrics and update results file"
   ]
  },
  {
   "cell_type": "code",
   "execution_count": 17,
   "metadata": {},
   "outputs": [
    {
     "name": "stdout",
     "output_type": "stream",
     "text": [
      "Accuracy:  0.8640338302752294\n",
      "F1 score:  0.8615631613515288\n",
      "Precision:  0.8775085476438234\n",
      "Recall:  0.8461869266055045\n"
     ]
    }
   ],
   "source": [
    "print('Accuracy: ', accuracy_score(y_test, y_pred))\n",
    "print('F1 score: ', f1_score(y_test, y_pred))\n",
    "print('Precision: ', precision_score(y_test, y_pred))\n",
    "print('Recall: ', recall_score(y_test, y_pred))"
   ]
  },
  {
   "cell_type": "code",
   "execution_count": 18,
   "metadata": {},
   "outputs": [],
   "source": [
    "test_df['pred_label'] = y_pred\n",
    "test_df['correct_prediction'] = test_df['label'] == test_df['pred_label']"
   ]
  },
  {
   "cell_type": "code",
   "execution_count": 19,
   "metadata": {},
   "outputs": [],
   "source": [
    "test_df.to_csv('../results/svm_test_results.csv', index=False)"
   ]
  },
  {
   "cell_type": "code",
   "execution_count": 20,
   "metadata": {},
   "outputs": [
    {
     "data": {
      "text/html": [
       "<div>\n",
       "<style scoped>\n",
       "    .dataframe tbody tr th:only-of-type {\n",
       "        vertical-align: middle;\n",
       "    }\n",
       "\n",
       "    .dataframe tbody tr th {\n",
       "        vertical-align: top;\n",
       "    }\n",
       "\n",
       "    .dataframe thead th {\n",
       "        text-align: right;\n",
       "    }\n",
       "</style>\n",
       "<table border=\"1\" class=\"dataframe\">\n",
       "  <thead>\n",
       "    <tr style=\"text-align: right;\">\n",
       "      <th></th>\n",
       "      <th>model</th>\n",
       "      <th>accuracy</th>\n",
       "      <th>precision</th>\n",
       "      <th>recall</th>\n",
       "      <th>f1_score</th>\n",
       "    </tr>\n",
       "  </thead>\n",
       "  <tbody>\n",
       "    <tr>\n",
       "      <th>0</th>\n",
       "      <td>Logistic Regression</td>\n",
       "      <td>0.885</td>\n",
       "      <td>0.872</td>\n",
       "      <td>0.904</td>\n",
       "      <td>0.887</td>\n",
       "    </tr>\n",
       "    <tr>\n",
       "      <th>1</th>\n",
       "      <td>SVM</td>\n",
       "      <td>0.864</td>\n",
       "      <td>0.878</td>\n",
       "      <td>0.846</td>\n",
       "      <td>0.862</td>\n",
       "    </tr>\n",
       "    <tr>\n",
       "      <th>2</th>\n",
       "      <td>CNN</td>\n",
       "      <td>0.902</td>\n",
       "      <td>0.885</td>\n",
       "      <td>0.924</td>\n",
       "      <td>0.904</td>\n",
       "    </tr>\n",
       "    <tr>\n",
       "      <th>3</th>\n",
       "      <td>BiLSTM (RNN)</td>\n",
       "      <td>0.935</td>\n",
       "      <td>0.954</td>\n",
       "      <td>0.914</td>\n",
       "      <td>0.934</td>\n",
       "    </tr>\n",
       "    <tr>\n",
       "      <th>4</th>\n",
       "      <td>BERT</td>\n",
       "      <td>0.963</td>\n",
       "      <td>0.952</td>\n",
       "      <td>0.974</td>\n",
       "      <td>0.963</td>\n",
       "    </tr>\n",
       "  </tbody>\n",
       "</table>\n",
       "</div>"
      ],
      "text/plain": [
       "                 model  accuracy  precision  recall  f1_score\n",
       "0  Logistic Regression     0.885      0.872   0.904     0.887\n",
       "1                  SVM     0.864      0.878   0.846     0.862\n",
       "2                  CNN     0.902      0.885   0.924     0.904\n",
       "3         BiLSTM (RNN)     0.935      0.954   0.914     0.934\n",
       "4                 BERT     0.963      0.952   0.974     0.963"
      ]
     },
     "execution_count": 20,
     "metadata": {},
     "output_type": "execute_result"
    }
   ],
   "source": [
    "all_results = pd.read_csv('../results/metrics_results.csv')\n",
    "\n",
    "all_results = update_model_metrics(all_results, 'SVM', y_test, y_pred)\n",
    "\n",
    "\n",
    "# Save the updated DataFrame back to the CSV file\n",
    "all_results.to_csv('../results/metrics_results.csv', index=False)\n",
    "\n",
    "all_results"
   ]
  },
  {
   "cell_type": "markdown",
   "metadata": {},
   "source": [
    "## Save model"
   ]
  },
  {
   "cell_type": "code",
   "execution_count": 21,
   "metadata": {},
   "outputs": [],
   "source": [
    "filename = '../saved_models/svm_model.pkl'\n",
    "pickle.dump(svm_linear, open(filename, 'wb'))"
   ]
  }
 ],
 "metadata": {
  "kernelspec": {
   "display_name": "env",
   "language": "python",
   "name": "python3"
  },
  "language_info": {
   "codemirror_mode": {
    "name": "ipython",
    "version": 3
   },
   "file_extension": ".py",
   "mimetype": "text/x-python",
   "name": "python",
   "nbconvert_exporter": "python",
   "pygments_lexer": "ipython3",
   "version": "3.11.9"
  }
 },
 "nbformat": 4,
 "nbformat_minor": 2
}
